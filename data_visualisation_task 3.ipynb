{
 "cells": [
  {
   "cell_type": "code",
   "execution_count": 1,
   "id": "b63aa7dc",
   "metadata": {},
   "outputs": [],
   "source": [
    "import seaborn as sns\n",
    "import pandas as pd\n",
    "import matplotlib.pyplot as plt\n",
    "import numpy as np"
   ]
  },
  {
   "cell_type": "code",
   "execution_count": 9,
   "id": "d0d8991d",
   "metadata": {},
   "outputs": [
    {
     "data": {
      "text/html": [
       "<div>\n",
       "<style scoped>\n",
       "    .dataframe tbody tr th:only-of-type {\n",
       "        vertical-align: middle;\n",
       "    }\n",
       "\n",
       "    .dataframe tbody tr th {\n",
       "        vertical-align: top;\n",
       "    }\n",
       "\n",
       "    .dataframe thead th {\n",
       "        text-align: right;\n",
       "    }\n",
       "</style>\n",
       "<table border=\"1\" class=\"dataframe\">\n",
       "  <thead>\n",
       "    <tr style=\"text-align: right;\">\n",
       "      <th></th>\n",
       "      <th>FrontLeft</th>\n",
       "      <th>FrontRight</th>\n",
       "      <th>BackLeft</th>\n",
       "      <th>BackRight</th>\n",
       "    </tr>\n",
       "    <tr>\n",
       "      <th>Date</th>\n",
       "      <th></th>\n",
       "      <th></th>\n",
       "      <th></th>\n",
       "      <th></th>\n",
       "    </tr>\n",
       "  </thead>\n",
       "  <tbody>\n",
       "    <tr>\n",
       "      <th>4/11/2010 11:30</th>\n",
       "      <td>295.2</td>\n",
       "      <td>297.0</td>\n",
       "      <td>295.8</td>\n",
       "      <td>296.3</td>\n",
       "    </tr>\n",
       "    <tr>\n",
       "      <th>4/11/2010 12:00</th>\n",
       "      <td>296.2</td>\n",
       "      <td>296.4</td>\n",
       "      <td>296.2</td>\n",
       "      <td>296.3</td>\n",
       "    </tr>\n",
       "    <tr>\n",
       "      <th>4/11/2010 12:30</th>\n",
       "      <td>297.3</td>\n",
       "      <td>297.5</td>\n",
       "      <td>296.7</td>\n",
       "      <td>297.1</td>\n",
       "    </tr>\n",
       "    <tr>\n",
       "      <th>4/11/2010 13:00</th>\n",
       "      <td>295.9</td>\n",
       "      <td>296.7</td>\n",
       "      <td>297.4</td>\n",
       "      <td>297.0</td>\n",
       "    </tr>\n",
       "    <tr>\n",
       "      <th>4/11/2010 13:30</th>\n",
       "      <td>297.2</td>\n",
       "      <td>296.5</td>\n",
       "      <td>297.6</td>\n",
       "      <td>297.4</td>\n",
       "    </tr>\n",
       "  </tbody>\n",
       "</table>\n",
       "</div>"
      ],
      "text/plain": [
       "                 FrontLeft  FrontRight  BackLeft  BackRight\n",
       "Date                                                       \n",
       "4/11/2010 11:30      295.2       297.0     295.8      296.3\n",
       "4/11/2010 12:00      296.2       296.4     296.2      296.3\n",
       "4/11/2010 12:30      297.3       297.5     296.7      297.1\n",
       "4/11/2010 13:00      295.9       296.7     297.4      297.0\n",
       "4/11/2010 13:30      297.2       296.5     297.6      297.4"
      ]
     },
     "execution_count": 9,
     "metadata": {},
     "output_type": "execute_result"
    }
   ],
   "source": [
    "#loading the csv file on the pandas dataframe\n",
    "df = pd.read_csv('C:/Users/25401017/python project/room-temperature.csv', index_col = 0)\n",
    "#displaying the first five rows\n",
    "df.head()"
   ]
  },
  {
   "cell_type": "code",
   "execution_count": 11,
   "id": "8f918718",
   "metadata": {},
   "outputs": [
    {
     "data": {
      "text/plain": [
       "<AxesSubplot:xlabel='FrontLeft', ylabel='BackLeft'>"
      ]
     },
     "execution_count": 11,
     "metadata": {},
     "output_type": "execute_result"
    },
    {
     "data": {
      "image/png": "[encoded data removed]",
      "text/plain": [
       "<Figure size 432x288 with 1 Axes>"
      ]
     },
     "metadata": {
      "needs_background": "light"
     },
     "output_type": "display_data"
    }
   ],
   "source": [
    "#plotting the scatter graph to show the correlatrion between frontleft and backleft of room temperature\n",
    "df.plot.scatter(x = \"FrontLeft\", y=\"BackLeft\")"
   ]
  },
  {
   "cell_type": "code",
   "execution_count": 22,
   "id": "7d5667b4",
   "metadata": {},
   "outputs": [
    {
     "data": {
      "text/html": [
       "<div>\n",
       "<style scoped>\n",
       "    .dataframe tbody tr th:only-of-type {\n",
       "        vertical-align: middle;\n",
       "    }\n",
       "\n",
       "    .dataframe tbody tr th {\n",
       "        vertical-align: top;\n",
       "    }\n",
       "\n",
       "    .dataframe thead th {\n",
       "        text-align: right;\n",
       "    }\n",
       "</style>\n",
       "<table border=\"1\" class=\"dataframe\">\n",
       "  <thead>\n",
       "    <tr style=\"text-align: right;\">\n",
       "      <th></th>\n",
       "      <th>Length</th>\n",
       "      <th>Curl</th>\n",
       "      <th>KinkIndex</th>\n",
       "      <th>NumberKink</th>\n",
       "      <th>TotalKinkAngle</th>\n",
       "      <th>Width</th>\n",
       "    </tr>\n",
       "  </thead>\n",
       "  <tbody>\n",
       "    <tr>\n",
       "      <th>0</th>\n",
       "      <td>0.068</td>\n",
       "      <td>0.00</td>\n",
       "      <td>0.0</td>\n",
       "      <td>0</td>\n",
       "      <td>0.0</td>\n",
       "      <td>0</td>\n",
       "    </tr>\n",
       "    <tr>\n",
       "      <th>1</th>\n",
       "      <td>0.386</td>\n",
       "      <td>0.02</td>\n",
       "      <td>0.0</td>\n",
       "      <td>0</td>\n",
       "      <td>0.0</td>\n",
       "      <td>26</td>\n",
       "    </tr>\n",
       "    <tr>\n",
       "      <th>2</th>\n",
       "      <td>0.086</td>\n",
       "      <td>0.00</td>\n",
       "      <td>0.0</td>\n",
       "      <td>0</td>\n",
       "      <td>0.0</td>\n",
       "      <td>0</td>\n",
       "    </tr>\n",
       "    <tr>\n",
       "      <th>3</th>\n",
       "      <td>0.100</td>\n",
       "      <td>0.00</td>\n",
       "      <td>0.0</td>\n",
       "      <td>0</td>\n",
       "      <td>0.0</td>\n",
       "      <td>0</td>\n",
       "    </tr>\n",
       "    <tr>\n",
       "      <th>4</th>\n",
       "      <td>0.153</td>\n",
       "      <td>0.03</td>\n",
       "      <td>0.0</td>\n",
       "      <td>0</td>\n",
       "      <td>0.0</td>\n",
       "      <td>0</td>\n",
       "    </tr>\n",
       "  </tbody>\n",
       "</table>\n",
       "</div>"
      ],
      "text/plain": [
       "   Length  Curl  KinkIndex  NumberKink  TotalKinkAngle  Width\n",
       "0   0.068  0.00        0.0           0             0.0      0\n",
       "1   0.386  0.02        0.0           0             0.0     26\n",
       "2   0.086  0.00        0.0           0             0.0      0\n",
       "3   0.100  0.00        0.0           0             0.0      0\n",
       "4   0.153  0.03        0.0           0             0.0      0"
      ]
     },
     "execution_count": 22,
     "metadata": {},
     "output_type": "execute_result"
    }
   ],
   "source": [
    "#loading the csv file on the pandas dataframe\n",
    "df = pd.read_csv('C:/Users/25401017/python project/wood-fibres.csv')\n",
    "#displaying the first five rows\n",
    "df.head()"
   ]
  },
  {
   "cell_type": "code",
   "execution_count": 26,
   "id": "f0abe146",
   "metadata": {},
   "outputs": [
    {
     "data": {
      "text/plain": [
       "<AxesSubplot:xlabel='Length', ylabel='Width'>"
      ]
     },
     "execution_count": 26,
     "metadata": {},
     "output_type": "execute_result"
    },
    {
     "data": {
      "image/png": "[encoded data removed]",
      "text/plain": [
       "<Figure size 432x288 with 1 Axes>"
      ]
     },
     "metadata": {
      "needs_background": "light"
     },
     "output_type": "display_data"
    }
   ],
   "source": [
    "#plotting the scatter graph to show the correlation between length and width\n",
    "df.plot.scatter(x = \"Length\", y=\"Width\")"
   ]
  },
  {
   "cell_type": "code",
   "execution_count": 30,
   "id": "5cbbff05",
   "metadata": {},
   "outputs": [
    {
     "data": {
      "text/html": [
       "<div>\n",
       "<style scoped>\n",
       "    .dataframe tbody tr th:only-of-type {\n",
       "        vertical-align: middle;\n",
       "    }\n",
       "\n",
       "    .dataframe tbody tr th {\n",
       "        vertical-align: top;\n",
       "    }\n",
       "\n",
       "    .dataframe thead th {\n",
       "        text-align: right;\n",
       "    }\n",
       "</style>\n",
       "<table border=\"1\" class=\"dataframe\">\n",
       "  <thead>\n",
       "    <tr style=\"text-align: right;\">\n",
       "      <th></th>\n",
       "      <th>Unnamed: 0</th>\n",
       "      <th>Oil</th>\n",
       "      <th>Density</th>\n",
       "      <th>Crispy</th>\n",
       "      <th>Fracture</th>\n",
       "      <th>Hardness</th>\n",
       "    </tr>\n",
       "  </thead>\n",
       "  <tbody>\n",
       "    <tr>\n",
       "      <th>0</th>\n",
       "      <td>B110</td>\n",
       "      <td>16.5</td>\n",
       "      <td>2955</td>\n",
       "      <td>10</td>\n",
       "      <td>23</td>\n",
       "      <td>97</td>\n",
       "    </tr>\n",
       "    <tr>\n",
       "      <th>1</th>\n",
       "      <td>B136</td>\n",
       "      <td>17.7</td>\n",
       "      <td>2660</td>\n",
       "      <td>14</td>\n",
       "      <td>9</td>\n",
       "      <td>139</td>\n",
       "    </tr>\n",
       "    <tr>\n",
       "      <th>2</th>\n",
       "      <td>B171</td>\n",
       "      <td>16.2</td>\n",
       "      <td>2870</td>\n",
       "      <td>12</td>\n",
       "      <td>17</td>\n",
       "      <td>143</td>\n",
       "    </tr>\n",
       "    <tr>\n",
       "      <th>3</th>\n",
       "      <td>B192</td>\n",
       "      <td>16.7</td>\n",
       "      <td>2920</td>\n",
       "      <td>10</td>\n",
       "      <td>31</td>\n",
       "      <td>95</td>\n",
       "    </tr>\n",
       "    <tr>\n",
       "      <th>4</th>\n",
       "      <td>B225</td>\n",
       "      <td>16.3</td>\n",
       "      <td>2975</td>\n",
       "      <td>11</td>\n",
       "      <td>26</td>\n",
       "      <td>143</td>\n",
       "    </tr>\n",
       "  </tbody>\n",
       "</table>\n",
       "</div>"
      ],
      "text/plain": [
       "  Unnamed: 0   Oil  Density  Crispy  Fracture  Hardness\n",
       "0       B110  16.5     2955      10        23        97\n",
       "1       B136  17.7     2660      14         9       139\n",
       "2       B171  16.2     2870      12        17       143\n",
       "3       B192  16.7     2920      10        31        95\n",
       "4       B225  16.3     2975      11        26       143"
      ]
     },
     "execution_count": 30,
     "metadata": {},
     "output_type": "execute_result"
    }
   ],
   "source": [
    "#loading the csv file on the pandas dataframe\n",
    "df = pd.read_csv('C:/Users/25401017/python project/food-texture.csv')\n",
    "#displaying the first five rows\n",
    "df.head()"
   ]
  },
  {
   "cell_type": "code",
   "execution_count": 31,
   "id": "4e262319",
   "metadata": {},
   "outputs": [
    {
     "data": {
      "text/plain": [
       "<AxesSubplot:xlabel='Oil', ylabel='Crispy'>"
      ]
     },
     "execution_count": 31,
     "metadata": {},
     "output_type": "execute_result"
    },
    {
     "data": {
      "image/png": "[encoded data removed]",
      "text/plain": [
       "<Figure size 432x288 with 1 Axes>"
      ]
     },
     "metadata": {
      "needs_background": "light"
     },
     "output_type": "display_data"
    }
   ],
   "source": [
    "#plotting the scatter graph to show the relationship between oil and crispy texture of food\n",
    "df.plot.scatter(x = \"Oil\", y=\"Crispy\")"
   ]
  },
  {
   "cell_type": "code",
   "execution_count": null,
   "id": "463d812d",
   "metadata": {},
   "outputs": [],
   "source": []
  }
 ],
 "metadata": {
  "kernelspec": {
   "display_name": "Python 3 (ipykernel)",
   "language": "python",
   "name": "python3"
  },
  "language_info": {
   "codemirror_mode": {
    "name": "ipython",
    "version": 3
   },
   "file_extension": ".py",
   "mimetype": "text/x-python",
   "name": "python",
   "nbconvert_exporter": "python",
   "pygments_lexer": "ipython3",
   "version": "3.9.12"
  }
 },
 "nbformat": 4,
 "nbformat_minor": 5
}
