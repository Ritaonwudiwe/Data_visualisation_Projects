{
 "cells": [
  {
   "cell_type": "code",
   "execution_count": 1,
   "id": "66fe8f65",
   "metadata": {},
   "outputs": [],
   "source": [
    "import seaborn as sns\n",
    "import pandas as pd\n",
    "import matplotlib.pyplot as plt\n",
    "import numpy as np"
   ]
  },
  {
   "cell_type": "code",
   "execution_count": 8,
   "id": "1c79d8cc",
   "metadata": {},
   "outputs": [
    {
     "name": "stdout",
     "output_type": "stream",
     "text": [
      "<class 'pandas.core.frame.DataFrame'>\n",
      "RangeIndex: 214 entries, 0 to 213\n",
      "Data columns (total 4 columns):\n",
      " #   Column     Non-Null Count  Dtype \n",
      "---  ------     --------------  ----- \n",
      " 0   DayOfWeek  214 non-null    object\n",
      " 1   MonthDay   214 non-null    object\n",
      " 2   Year       214 non-null    int64 \n",
      " 3   Visits     214 non-null    int64 \n",
      "dtypes: int64(2), object(2)\n",
      "memory usage: 6.8+ KB\n"
     ]
    },
    {
     "data": {
      "text/html": [
       "<div>\n",
       "<style scoped>\n",
       "    .dataframe tbody tr th:only-of-type {\n",
       "        vertical-align: middle;\n",
       "    }\n",
       "\n",
       "    .dataframe tbody tr th {\n",
       "        vertical-align: top;\n",
       "    }\n",
       "\n",
       "    .dataframe thead th {\n",
       "        text-align: right;\n",
       "    }\n",
       "</style>\n",
       "<table border=\"1\" class=\"dataframe\">\n",
       "  <thead>\n",
       "    <tr style=\"text-align: right;\">\n",
       "      <th></th>\n",
       "      <th>DayOfWeek</th>\n",
       "      <th>MonthDay</th>\n",
       "      <th>Year</th>\n",
       "      <th>Visits</th>\n",
       "    </tr>\n",
       "  </thead>\n",
       "  <tbody>\n",
       "    <tr>\n",
       "      <th>0</th>\n",
       "      <td>Monday</td>\n",
       "      <td>June 1</td>\n",
       "      <td>2009</td>\n",
       "      <td>27</td>\n",
       "    </tr>\n",
       "    <tr>\n",
       "      <th>1</th>\n",
       "      <td>Tuesday</td>\n",
       "      <td>June 2</td>\n",
       "      <td>2009</td>\n",
       "      <td>31</td>\n",
       "    </tr>\n",
       "    <tr>\n",
       "      <th>2</th>\n",
       "      <td>Wednesday</td>\n",
       "      <td>June 3</td>\n",
       "      <td>2009</td>\n",
       "      <td>38</td>\n",
       "    </tr>\n",
       "    <tr>\n",
       "      <th>3</th>\n",
       "      <td>Thursday</td>\n",
       "      <td>June 4</td>\n",
       "      <td>2009</td>\n",
       "      <td>38</td>\n",
       "    </tr>\n",
       "    <tr>\n",
       "      <th>4</th>\n",
       "      <td>Friday</td>\n",
       "      <td>June 5</td>\n",
       "      <td>2009</td>\n",
       "      <td>31</td>\n",
       "    </tr>\n",
       "  </tbody>\n",
       "</table>\n",
       "</div>"
      ],
      "text/plain": [
       "   DayOfWeek MonthDay  Year  Visits\n",
       "0     Monday   June 1  2009      27\n",
       "1    Tuesday   June 2  2009      31\n",
       "2  Wednesday   June 3  2009      38\n",
       "3   Thursday   June 4  2009      38\n",
       "4     Friday   June 5  2009      31"
      ]
     },
     "execution_count": 8,
     "metadata": {},
     "output_type": "execute_result"
    }
   ],
   "source": [
    "#loading the csv file on the pandas dataframe\n",
    "df = pd.read_csv('C:/Users/25401017/python project/website-traffic.csv')\n",
    "#extracting information about the file\n",
    "df.info()\n",
    "#displaying the first five rows\n",
    "df.head()"
   ]
  },
  {
   "cell_type": "code",
   "execution_count": 19,
   "id": "483a2ddb",
   "metadata": {},
   "outputs": [
    {
     "data": {
      "image/png": "[encoded data removed]",
      "text/plain": [
       "<Figure size 432x288 with 1 Axes>"
      ]
     },
     "metadata": {
      "needs_background": "light"
     },
     "output_type": "display_data"
    }
   ],
   "source": [
    "#plotting a lineplot using seaborn\n",
    "sns.lineplot(x=\"DayOfWeek\", y=\"Visits\", data=df)\n",
    "#putting titles and labels on my lineplot\n",
    "plt.title('website traffic for each week')\n",
    "plt.xlabel('DayOfWeek')\n",
    "plt.ylabel('Visits)')\n",
    "#outputting the lineplot\n",
    "plt.show()"
   ]
  },
  {
   "cell_type": "markdown",
   "id": "058e5011",
   "metadata": {},
   "source": [
    "I have used a line graph here because it is best used for tracking changes over time. From the graph we can clearly see that there was a bit of steady traffic from monday to tuesday. Wednesday had the highest traffic compared to the rest of the week. Saturday had the lowest traffic compared to the rest of the week. I used seaborn to plot the graph because it shows better the changes that has occurred within the week than the ordinary line chart."
   ]
  }
 ],
 "metadata": {
  "kernelspec": {
   "display_name": "Python 3 (ipykernel)",
   "language": "python",
   "name": "python3"
  },
  "language_info": {
   "codemirror_mode": {
    "name": "ipython",
    "version": 3
   },
   "file_extension": ".py",
   "mimetype": "text/x-python",
   "name": "python",
   "nbconvert_exporter": "python",
   "pygments_lexer": "ipython3",
   "version": "3.9.12"
  }
 },
 "nbformat": 4,
 "nbformat_minor": 5
}
